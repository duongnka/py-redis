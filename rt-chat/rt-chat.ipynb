{
 "cells": [
  {
   "cell_type": "code",
   "execution_count": 1,
   "metadata": {},
   "outputs": [],
   "source": [
    "import redis, time, threading\n",
    "from datetime import datetime\n",
    "\n",
    "# Redis connection\n",
    "redis_host = 'localhost'\n",
    "redis_port = 6379\n",
    "redis_client = redis.StrictRedis(host=redis_host, port=redis_port, decode_responses=True)\n",
    "\n",
    "# Chat Room Names\n",
    "chat_rooms = ['Chat Room 1', 'Chat Room 2', 'Chat Room 3']\n",
    "\n",
    "def handle_messages(room):\n",
    "    pubsub = redis_client.pubsub()\n",
    "    pubsub.subscribe(room)\n",
    "\n",
    "    for message in pubsub.listen():\n",
    "        if message['type'] == 'message':\n",
    "            print(f\"[{room}] {message['data']}\")\n",
    "\n",
    "def send_message(room, user_name):\n",
    "\n",
    "    # Get the current date and time\n",
    "\n",
    "    # Format the date and time in a beautiful way\n",
    "    while True:\n",
    "        message = input(f\"Enter your message for [{room}]: \")\n",
    "        current_datetime = datetime.now().strftime(\"%A, %d %B %Y %I:%M %p\")\n",
    "\n",
    "        redis_client.publish(room, f\"[{current_datetime}-{user_name}]\\t{message}\")\n",
    "\n",
    "def join_chat_room(username, room):\n",
    "    redis_client.sadd(f\"users:{room}\", username)\n",
    "    print(f\"{username} has joined {room}\")\n",
    "\n",
    "def leave_chat_room(username, room):\n",
    "    redis_client.srem(f\"users:{room}\", username)\n",
    "    print(f\"{username} has left {room}\")\n",
    "\n",
    "def main():\n",
    "    username = input(\"Enter your username: \")\n",
    "    print(\"Available chat rooms:\")\n",
    "    for idx, room in enumerate(chat_rooms, start=1):\n",
    "        print(f\"{idx}. {room}\")\n",
    "\n",
    "    room_choice = int(input(\"Enter the number of the chat room you want to join: \"))\n",
    "    if 1 <= room_choice <= len(chat_rooms):\n",
    "        selected_room = chat_rooms[room_choice - 1]\n",
    "        join_chat_room(username, selected_room)\n",
    "\n",
    "        # Start message handling thread\n",
    "        message_thread = threading.Thread(target=handle_messages, args=(selected_room,), daemon=True)\n",
    "        message_thread.start()\n",
    "\n",
    "        # Start message sending loop\n",
    "        send_thread = threading.Thread(target=send_message, args=(selected_room,), daemon=True)\n",
    "        send_thread.start()\n",
    "\n",
    "        try:\n",
    "            while True:\n",
    "                time.sleep(1)\n",
    "        except KeyboardInterrupt:\n",
    "            leave_chat_room(username, selected_room)\n",
    "\n"
   ]
  },
  {
   "cell_type": "code",
   "execution_count": 2,
   "metadata": {},
   "outputs": [
    {
     "name": "stdout",
     "output_type": "stream",
     "text": [
      "Available chat rooms:\n",
      "1. Chat Room 1\n",
      "2. Chat Room 2\n",
      "3. Chat Room 3\n",
      "duongnka has joined Chat Room 2\n",
      "[Chat Room 2] hello every body\n",
      "[Chat Room 2] I am new to this room, it's nice to meet you all\n",
      "[Chat Room 2] \n",
      "[Chat Room 2] \n",
      "[Chat Room 2] \n",
      "[Chat Room 2] \n",
      "[Chat Room 2] \n",
      "[Chat Room 2] \n"
     ]
    }
   ],
   "source": [
    "username = input(\"Enter your username: \")\n",
    "print(\"Available chat rooms:\")\n",
    "for idx, room in enumerate(chat_rooms, start=1):\n",
    "    print(f\"{idx}. {room}\")\n",
    "\n",
    "room_choice = int(input(\"Enter the number of the chat room you want to join: \"))\n",
    "if 1 <= room_choice <= len(chat_rooms):\n",
    "    selected_room = chat_rooms[room_choice - 1]\n",
    "    join_chat_room(username, selected_room)\n",
    "\n",
    "    # Start message handling thread\n",
    "    message_thread = threading.Thread(target=handle_messages, args=(selected_room,), daemon=True)\n",
    "    message_thread.start()\n",
    "\n",
    "    # Start message sending loop\n",
    "    send_thread = threading.Thread(target=send_message, args=(selected_room,), daemon=True)\n",
    "    send_thread.start()\n",
    "\n",
    "    try:\n",
    "        while True:\n",
    "            time.sleep(1)\n",
    "    except KeyboardInterrupt:\n",
    "        leave_chat_room(username, selected_room)"
   ]
  },
  {
   "cell_type": "code",
   "execution_count": 3,
   "metadata": {},
   "outputs": [
    {
     "data": {
      "text/plain": [
       "[[host=127.0.0.1,port=7006,name=127.0.0.1:7006,server_type=primary,redis_connection=Redis<ConnectionPool<Connection<host=127.0.0.1,port=7006,db=0>>>],\n",
       " [host=127.0.0.1,port=7005,name=127.0.0.1:7005,server_type=replica,redis_connection=Redis<ConnectionPool<Connection<host=127.0.0.1,port=7005,db=0>>>],\n",
       " [host=127.0.0.1,port=7003,name=127.0.0.1:7003,server_type=primary,redis_connection=Redis<ConnectionPool<Connection<host=127.0.0.1,port=7003,db=0>>>],\n",
       " [host=127.0.0.1,port=7001,name=127.0.0.1:7001,server_type=replica,redis_connection=Redis<ConnectionPool<Connection<host=127.0.0.1,port=7001,db=0>>>],\n",
       " [host=127.0.0.1,port=7002,name=127.0.0.1:7002,server_type=primary,redis_connection=Redis<ConnectionPool<Connection<host=127.0.0.1,port=7002,db=0>>>],\n",
       " [host=127.0.0.1,port=7004,name=127.0.0.1:7004,server_type=replica,redis_connection=Redis<ConnectionPool<Connection<host=127.0.0.1,port=7004,db=0>>>]]"
      ]
     },
     "execution_count": 3,
     "metadata": {},
     "output_type": "execute_result"
    }
   ],
   "source": [
    "from redis.cluster import RedisCluster as Redis\n",
    "rc = Redis(host=\"localhost\", port=7001)\n",
    "rc.get_nodes()"
   ]
  },
  {
   "cell_type": "code",
   "execution_count": 11,
   "metadata": {},
   "outputs": [
    {
     "data": {
      "text/plain": [
       "[[host=127.0.0.1,port=7006,name=127.0.0.1:7006,server_type=primary,redis_connection=Redis<ConnectionPool<Connection<host=127.0.0.1,port=7006,db=0>>>],\n",
       " [host=127.0.0.1,port=7005,name=127.0.0.1:7005,server_type=replica,redis_connection=Redis<ConnectionPool<Connection<host=127.0.0.1,port=7005,db=0>>>],\n",
       " [host=127.0.0.1,port=7003,name=127.0.0.1:7003,server_type=primary,redis_connection=Redis<ConnectionPool<Connection<host=127.0.0.1,port=7003,db=0>>>],\n",
       " [host=127.0.0.1,port=7001,name=127.0.0.1:7001,server_type=replica,redis_connection=Redis<ConnectionPool<Connection<host=127.0.0.1,port=7001,db=0>>>],\n",
       " [host=127.0.0.1,port=7002,name=127.0.0.1:7002,server_type=primary,redis_connection=Redis<ConnectionPool<Connection<host=127.0.0.1,port=7002,db=0>>>],\n",
       " [host=127.0.0.1,port=7004,name=127.0.0.1:7004,server_type=replica,redis_connection=Redis<ConnectionPool<Connection<host=127.0.0.1,port=7004,db=0>>>]]"
      ]
     },
     "execution_count": 11,
     "metadata": {},
     "output_type": "execute_result"
    }
   ],
   "source": [
    "import sys \n",
    "sys.path.append('..')\n",
    "from utils.redis_utils import *\n",
    "rc = RedisUtils(RedisType.CLUSTER)\n",
    "rc.redis_client.get_nodes()"
   ]
  },
  {
   "cell_type": "code",
   "execution_count": 13,
   "metadata": {},
   "outputs": [
    {
     "name": "stdout",
     "output_type": "stream",
     "text": [
      "['/Users/duongnka/Learning/Redis/py-redis/rt-chat', '/Users/duongnka/Learning/Redis/py-redis/rt-chat', '/usr/bin/python3', '/opt/homebrew/Cellar/python@3.11/3.11.3/Frameworks/Python.framework/Versions/3.11/lib/python311.zip', '/opt/homebrew/Cellar/python@3.11/3.11.3/Frameworks/Python.framework/Versions/3.11/lib/python3.11', '/opt/homebrew/Cellar/python@3.11/3.11.3/Frameworks/Python.framework/Versions/3.11/lib/python3.11/lib-dynload', '', '/Users/duongnka/Library/Python/3.11/lib/python/site-packages', '/opt/homebrew/lib/python3.11/site-packages', '..']\n"
     ]
    }
   ],
   "source": [
    "import sys\n",
    "print(sys.path)"
   ]
  }
 ],
 "metadata": {
  "kernelspec": {
   "display_name": "Python 3",
   "language": "python",
   "name": "python3"
  },
  "language_info": {
   "codemirror_mode": {
    "name": "ipython",
    "version": 3
   },
   "file_extension": ".py",
   "mimetype": "text/x-python",
   "name": "python",
   "nbconvert_exporter": "python",
   "pygments_lexer": "ipython3",
   "version": "3.11.3"
  },
  "orig_nbformat": 4
 },
 "nbformat": 4,
 "nbformat_minor": 2
}
